{
 "cells": [
  {
   "cell_type": "markdown",
   "metadata": {
    "duration": "30 minutes"
   },
   "source": [
    "# Machine Learning with scikit-learn"
   ]
  },
  {
   "cell_type": "markdown",
   "metadata": {},
   "source": [
    "## Getting our hands dirty\n",
    "\n",
    "In this lesson, we go through several techniques within scikit-learn, many of which we return to explore in more detail in subsequent lessons.  Having a sense of the overall steps and results one sees in a machine learning task provides a good reference to more in-depth exploration later."
   ]
  },
  {
   "cell_type": "markdown",
   "metadata": {},
   "source": [
    "## Machines Learning About Humans Learning About Machine Learning\n",
    "\n",
    "I gave the first tutorial at AnacondaCON 2018, on machine learning with scikit-learn. I spoke there to about 120 enthusiastic, and aspiring, data scientists.\n",
    "\n",
    "The attendees of my session were a very nice group of learners and experts. But I decided I wanted to know even more about these people than I could find by looking at their faces and responding to their questions. So I asked them to complete a slightly whimsical form at the end of the 3 hour  tutorial. Just who are these people, and what can scikit-learn tell us about which of them benefitted most from the tutorial?\n",
    "\n",
    "In the interest open data science, the collection of answers given by attendees is available under a [CC-BY-SA 4.0 license](https://creativecommons.org/licenses/by-sa/4.0/legalcode). The anonymized data is [available as a CSV file](https://goo.gl/WgTQMX). If you wish to code along with the rest of this notebook, save it locally as Learning about Humans learning ML.csv (or adjust your code as needed).\n",
    "\n",
    "The attendees of this webinar, or those later viewing this notebook, are well described as:\n",
    "\n",
    "\"Humans learning about machines learning about humans learning about machine learning.\""
   ]
  }
 ],
 "metadata": {
  "kernelspec": {
   "display_name": "Python 3",
   "language": "python",
   "name": "python3"
  },
  "language_info": {
   "codemirror_mode": {
    "name": "ipython",
    "version": 3
   },
   "file_extension": ".py",
   "mimetype": "text/x-python",
   "name": "python",
   "nbconvert_exporter": "python",
   "pygments_lexer": "ipython3",
   "version": "3.6.2"
  }
 },
 "nbformat": 4,
 "nbformat_minor": 2
}
